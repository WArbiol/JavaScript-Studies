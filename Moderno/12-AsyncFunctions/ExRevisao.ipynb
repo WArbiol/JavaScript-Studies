{
 "cells": [
  {
   "cell_type": "markdown",
   "metadata": {},
   "source": [
    "Converter para Promise e Async/await:"
   ]
  },
  {
   "cell_type": "code",
   "execution_count": null,
   "metadata": {
    "vscode": {
     "languageId": "javascript"
    }
   },
   "outputs": [],
   "source": [
    "const sleep = (ms, cb) => {\n",
    "  setTimeout(() => {\n",
    "    cb(null, true)\n",
    "  }, ms)\n",
    "}\n",
    "\n",
    "function start() {\n",
    "  const ONE_SEC_IN_MS = 1000;\n",
    "\n",
    "  sleep(ONE_SEC_IN_MS, console.log)\n",
    "}\n",
    "\n",
    "start();"
   ]
  },
  {
   "cell_type": "markdown",
   "metadata": {},
   "source": [
    "- O que é um callback? como ele funciona?\n",
    "    - É uma função que se passa como parâmetro\n",
    "- O que é uma Promise e quais são seus estados?\n",
    "    - Uma promise tem dois estados: Pendente ou Estabelicida\n",
    "    - Caso estabelecida ela pode ser: Realizada ou Recusada\n",
    "- Qual a diferença de um callback para uma Promise? \n",
    "    -  Um callback é a utilização de uma função não definida, se define nos parametros.\n",
    "    Utilizar uma promisse é utilizar uma função já definida mas com retorno não instantaneamente definido \n",
    "- Qual a diferença de uma Promise para async/await?\n",
    "    - async/await retorna o retorno da promise da async function, enquanto a promisse só retorna o retorno a partir do .then(retorno => {...})\n",
    "- Como lidar com erros em callbacks?\n",
    "- Como lidar com erros em Promise?\n",
    "    - .catch(err => {...})\n",
    "- Como lidar com erros em async/await?\n",
    "    - if (condição de erro) {\n",
    "        return Promise.reject(\"Erro: ...\")\n",
    "    }\n",
    "\n",
    "    - async function blablabla(args) {\n",
    "        try{\n",
    "            ...\n",
    "        } catch (err) {\n",
    "            console.log(err)\n",
    "        }\n",
    "    }"
   ]
  },
  {
   "cell_type": "markdown",
   "metadata": {},
   "source": [
    "Por que o \"b\" é exibido antes do \"a\"?"
   ]
  },
  {
   "cell_type": "code",
   "execution_count": null,
   "metadata": {
    "vscode": {
     "languageId": "javascript"
    }
   },
   "outputs": [],
   "source": [
    "setTimeout(() => {\n",
    "  console.log('a')\n",
    "}, 0);\n",
    "console.log('b')"
   ]
  },
  {
   "cell_type": "markdown",
   "metadata": {},
   "source": [
    "Porque funções sínronas tem mais desenpenho que assíncronas, em outras palavras, execuções síncronas são priorizadas\n",
    "A fila no eventloop rioriza código sincrono\n",
    "\n",
    "Dúvida:\n",
    "- Porque setTimeout é assíncrono se não usamos await ou nenhuma formatação de funções ass;incronas?"
   ]
  }
 ],
 "metadata": {
  "interpreter": {
   "hash": "e7370f93d1d0cde622a1f8e1c04877d8463912d04d973331ad4851f04de6915a"
  },
  "kernelspec": {
   "display_name": "Python 3.10.4 64-bit",
   "language": "python",
   "name": "python3"
  },
  "language_info": {
   "codemirror_mode": {
    "name": "ipython",
    "version": 3
   },
   "file_extension": ".py",
   "mimetype": "text/x-python",
   "name": "python",
   "nbconvert_exporter": "python",
   "pygments_lexer": "ipython3",
   "version": "3.10.4"
  },
  "orig_nbformat": 4
 },
 "nbformat": 4,
 "nbformat_minor": 2
}
